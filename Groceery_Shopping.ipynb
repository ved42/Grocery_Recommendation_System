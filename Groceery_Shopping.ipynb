{
 "cells": [
  {
   "cell_type": "code",
   "execution_count": 1,
   "id": "4a4aa5d5",
   "metadata": {},
   "outputs": [],
   "source": [
    "import pandas as pd\n",
    "import numpy as np\n",
    "import matplotlib.pyplot as plt\n",
    "import seaborn as sns"
   ]
  },
  {
   "cell_type": "code",
   "execution_count": 2,
   "id": "90a17b2d",
   "metadata": {},
   "outputs": [],
   "source": [
    "df=pd.read_csv('groceery - Form Responses 1.csv')"
   ]
  },
  {
   "cell_type": "code",
   "execution_count": 3,
   "id": "a55e82a5",
   "metadata": {},
   "outputs": [
    {
     "data": {
      "text/html": [
       "<div>\n",
       "<style scoped>\n",
       "    .dataframe tbody tr th:only-of-type {\n",
       "        vertical-align: middle;\n",
       "    }\n",
       "\n",
       "    .dataframe tbody tr th {\n",
       "        vertical-align: top;\n",
       "    }\n",
       "\n",
       "    .dataframe thead th {\n",
       "        text-align: right;\n",
       "    }\n",
       "</style>\n",
       "<table border=\"1\" class=\"dataframe\">\n",
       "  <thead>\n",
       "    <tr style=\"text-align: right;\">\n",
       "      <th></th>\n",
       "      <th>Timestamp</th>\n",
       "      <th>Email Address</th>\n",
       "      <th>Your Name</th>\n",
       "      <th>Age</th>\n",
       "      <th>How often do you typically go grocery shopping?</th>\n",
       "      <th>Do you prefer shopping online or in-store?</th>\n",
       "      <th>What types of fruits do you enjoy?</th>\n",
       "      <th>What types of vegetables do you enjoy?</th>\n",
       "      <th>What is your average budget for a grocery shopping trip?</th>\n",
       "      <th>Are you interested in healthier food options?</th>\n",
       "      <th>Any specific health goals or preferences?</th>\n",
       "      <th>Do you have preferred brands for certain products?</th>\n",
       "      <th>What is your preferred payment method for grocery shopping?</th>\n",
       "      <th>Do you have any specific allergy w.r.to fruits or vegetables (If not write NA)</th>\n",
       "    </tr>\n",
       "  </thead>\n",
       "  <tbody>\n",
       "    <tr>\n",
       "      <th>0</th>\n",
       "      <td>1/11/2024 17:44:09</td>\n",
       "      <td>kokanevedant7@gmail.com</td>\n",
       "      <td>Vedant</td>\n",
       "      <td>18-24</td>\n",
       "      <td>Once a week</td>\n",
       "      <td>Online</td>\n",
       "      <td>Apple</td>\n",
       "      <td>Carrots</td>\n",
       "      <td>200</td>\n",
       "      <td>Yes</td>\n",
       "      <td>muscle gain</td>\n",
       "      <td>Yes</td>\n",
       "      <td>Credit Card</td>\n",
       "      <td>NaN</td>\n",
       "    </tr>\n",
       "    <tr>\n",
       "      <th>1</th>\n",
       "      <td>1/11/2024 17:49:13</td>\n",
       "      <td>kalpak9370@gmail.com</td>\n",
       "      <td>Kalpak</td>\n",
       "      <td>18-24</td>\n",
       "      <td>Once a week</td>\n",
       "      <td>in-store</td>\n",
       "      <td>Banana</td>\n",
       "      <td>Broccoli</td>\n",
       "      <td>100</td>\n",
       "      <td>Yes</td>\n",
       "      <td>muscle gain</td>\n",
       "      <td>No</td>\n",
       "      <td>Mobile Wallet</td>\n",
       "      <td>NaN</td>\n",
       "    </tr>\n",
       "    <tr>\n",
       "      <th>2</th>\n",
       "      <td>1/11/2024 17:50:48</td>\n",
       "      <td>pranitaraut2002@gmail.com</td>\n",
       "      <td>Pranita</td>\n",
       "      <td>18-24</td>\n",
       "      <td>twice a month</td>\n",
       "      <td>Online</td>\n",
       "      <td>Orange</td>\n",
       "      <td>Carrots</td>\n",
       "      <td>1000</td>\n",
       "      <td>Yes</td>\n",
       "      <td>Weight loss</td>\n",
       "      <td>Yes</td>\n",
       "      <td>Mobile Wallet</td>\n",
       "      <td>NaN</td>\n",
       "    </tr>\n",
       "    <tr>\n",
       "      <th>3</th>\n",
       "      <td>1/11/2024 17:51:23</td>\n",
       "      <td>pranitaraut2002@gmail.com</td>\n",
       "      <td>Pranita</td>\n",
       "      <td>18-24</td>\n",
       "      <td>twice a month</td>\n",
       "      <td>Online</td>\n",
       "      <td>Apple</td>\n",
       "      <td>Carrots</td>\n",
       "      <td>1000</td>\n",
       "      <td>Yes</td>\n",
       "      <td>Weight loss</td>\n",
       "      <td>Yes</td>\n",
       "      <td>Cash</td>\n",
       "      <td>NaN</td>\n",
       "    </tr>\n",
       "    <tr>\n",
       "      <th>4</th>\n",
       "      <td>1/11/2024 18:11:29</td>\n",
       "      <td>muskanhannure@gmail.com</td>\n",
       "      <td>Muskan Hannure</td>\n",
       "      <td>18-24</td>\n",
       "      <td>Once a week</td>\n",
       "      <td>in-store</td>\n",
       "      <td>Mango</td>\n",
       "      <td>Green vegetable</td>\n",
       "      <td>50</td>\n",
       "      <td>Yes</td>\n",
       "      <td>Maintain current health</td>\n",
       "      <td>Sometimes</td>\n",
       "      <td>Mobile Wallet</td>\n",
       "      <td>NaN</td>\n",
       "    </tr>\n",
       "  </tbody>\n",
       "</table>\n",
       "</div>"
      ],
      "text/plain": [
       "            Timestamp              Email Address        Your Name    Age  \\\n",
       "0  1/11/2024 17:44:09    kokanevedant7@gmail.com           Vedant  18-24   \n",
       "1  1/11/2024 17:49:13       kalpak9370@gmail.com           Kalpak  18-24   \n",
       "2  1/11/2024 17:50:48  pranitaraut2002@gmail.com          Pranita  18-24   \n",
       "3  1/11/2024 17:51:23  pranitaraut2002@gmail.com          Pranita  18-24   \n",
       "4  1/11/2024 18:11:29    muskanhannure@gmail.com  Muskan Hannure   18-24   \n",
       "\n",
       "  How often do you typically go grocery shopping?  \\\n",
       "0                                     Once a week   \n",
       "1                                     Once a week   \n",
       "2                                   twice a month   \n",
       "3                                   twice a month   \n",
       "4                                     Once a week   \n",
       "\n",
       "  Do you prefer shopping online or in-store?  \\\n",
       "0                                     Online   \n",
       "1                                   in-store   \n",
       "2                                     Online   \n",
       "3                                     Online   \n",
       "4                                   in-store   \n",
       "\n",
       "  What types of fruits do you enjoy? What types of vegetables do you enjoy?  \\\n",
       "0                              Apple                                Carrots   \n",
       "1                             Banana                               Broccoli   \n",
       "2                             Orange                                Carrots   \n",
       "3                              Apple                                Carrots   \n",
       "4                              Mango                       Green vegetable    \n",
       "\n",
       "  What is your average budget for a grocery shopping trip?  \\\n",
       "0                                                200         \n",
       "1                                                100         \n",
       "2                                               1000         \n",
       "3                                               1000         \n",
       "4                                                 50         \n",
       "\n",
       "  Are you interested in healthier food options?   \\\n",
       "0                                            Yes   \n",
       "1                                            Yes   \n",
       "2                                            Yes   \n",
       "3                                            Yes   \n",
       "4                                            Yes   \n",
       "\n",
       "  Any specific health goals or preferences?  \\\n",
       "0                               muscle gain   \n",
       "1                               muscle gain   \n",
       "2                               Weight loss   \n",
       "3                               Weight loss   \n",
       "4                   Maintain current health   \n",
       "\n",
       "  Do you have preferred brands for certain products?   \\\n",
       "0                                                Yes    \n",
       "1                                                 No    \n",
       "2                                                Yes    \n",
       "3                                                Yes    \n",
       "4                                         Sometimes     \n",
       "\n",
       "  What is your preferred payment method for grocery shopping?  \\\n",
       "0                                        Credit Card            \n",
       "1                                      Mobile Wallet            \n",
       "2                                      Mobile Wallet            \n",
       "3                                               Cash            \n",
       "4                                      Mobile Wallet            \n",
       "\n",
       "  Do you have any specific allergy w.r.to fruits or vegetables (If not write NA)  \n",
       "0                                                NaN                              \n",
       "1                                                NaN                              \n",
       "2                                                NaN                              \n",
       "3                                                NaN                              \n",
       "4                                                NaN                              "
      ]
     },
     "execution_count": 3,
     "metadata": {},
     "output_type": "execute_result"
    }
   ],
   "source": [
    "df.head()"
   ]
  },
  {
   "cell_type": "code",
   "execution_count": 4,
   "id": "2e774df5",
   "metadata": {},
   "outputs": [
    {
     "name": "stdout",
     "output_type": "stream",
     "text": [
      "<class 'pandas.core.frame.DataFrame'>\n",
      "RangeIndex: 52 entries, 0 to 51\n",
      "Data columns (total 14 columns):\n",
      " #   Column                                                                          Non-Null Count  Dtype \n",
      "---  ------                                                                          --------------  ----- \n",
      " 0   Timestamp                                                                       52 non-null     object\n",
      " 1   Email Address                                                                   14 non-null     object\n",
      " 2   Your Name                                                                       52 non-null     object\n",
      " 3   Age                                                                             52 non-null     object\n",
      " 4   How often do you typically go grocery shopping?                                 52 non-null     object\n",
      " 5   Do you prefer shopping online or in-store?                                      52 non-null     object\n",
      " 6   What types of fruits do you enjoy?                                              52 non-null     object\n",
      " 7   What types of vegetables do you enjoy?                                          52 non-null     object\n",
      " 8   What is your average budget for a grocery shopping trip?                        52 non-null     object\n",
      " 9   Are you interested in healthier food options?                                   52 non-null     object\n",
      " 10  Any specific health goals or preferences?                                       51 non-null     object\n",
      " 11  Do you have preferred brands for certain products?                              14 non-null     object\n",
      " 12  What is your preferred payment method for grocery shopping?                     52 non-null     object\n",
      " 13  Do you have any specific allergy w.r.to fruits or vegetables (If not write NA)  3 non-null      object\n",
      "dtypes: object(14)\n",
      "memory usage: 5.8+ KB\n"
     ]
    }
   ],
   "source": [
    "df.info()"
   ]
  },
  {
   "cell_type": "code",
   "execution_count": 5,
   "id": "d11a04b4",
   "metadata": {},
   "outputs": [],
   "source": [
    "df.drop(['Timestamp','Email Address','Your Name'],axis=1,inplace=True)"
   ]
  },
  {
   "cell_type": "code",
   "execution_count": 6,
   "id": "fec9f1cc",
   "metadata": {},
   "outputs": [
    {
     "data": {
      "text/html": [
       "<div>\n",
       "<style scoped>\n",
       "    .dataframe tbody tr th:only-of-type {\n",
       "        vertical-align: middle;\n",
       "    }\n",
       "\n",
       "    .dataframe tbody tr th {\n",
       "        vertical-align: top;\n",
       "    }\n",
       "\n",
       "    .dataframe thead th {\n",
       "        text-align: right;\n",
       "    }\n",
       "</style>\n",
       "<table border=\"1\" class=\"dataframe\">\n",
       "  <thead>\n",
       "    <tr style=\"text-align: right;\">\n",
       "      <th></th>\n",
       "      <th>Age</th>\n",
       "      <th>How often do you typically go grocery shopping?</th>\n",
       "      <th>Do you prefer shopping online or in-store?</th>\n",
       "      <th>What types of fruits do you enjoy?</th>\n",
       "      <th>What types of vegetables do you enjoy?</th>\n",
       "      <th>What is your average budget for a grocery shopping trip?</th>\n",
       "      <th>Are you interested in healthier food options?</th>\n",
       "      <th>Any specific health goals or preferences?</th>\n",
       "      <th>Do you have preferred brands for certain products?</th>\n",
       "      <th>What is your preferred payment method for grocery shopping?</th>\n",
       "      <th>Do you have any specific allergy w.r.to fruits or vegetables (If not write NA)</th>\n",
       "    </tr>\n",
       "  </thead>\n",
       "  <tbody>\n",
       "    <tr>\n",
       "      <th>0</th>\n",
       "      <td>18-24</td>\n",
       "      <td>Once a week</td>\n",
       "      <td>Online</td>\n",
       "      <td>Apple</td>\n",
       "      <td>Carrots</td>\n",
       "      <td>200</td>\n",
       "      <td>Yes</td>\n",
       "      <td>muscle gain</td>\n",
       "      <td>Yes</td>\n",
       "      <td>Credit Card</td>\n",
       "      <td>NaN</td>\n",
       "    </tr>\n",
       "    <tr>\n",
       "      <th>1</th>\n",
       "      <td>18-24</td>\n",
       "      <td>Once a week</td>\n",
       "      <td>in-store</td>\n",
       "      <td>Banana</td>\n",
       "      <td>Broccoli</td>\n",
       "      <td>100</td>\n",
       "      <td>Yes</td>\n",
       "      <td>muscle gain</td>\n",
       "      <td>No</td>\n",
       "      <td>Mobile Wallet</td>\n",
       "      <td>NaN</td>\n",
       "    </tr>\n",
       "    <tr>\n",
       "      <th>2</th>\n",
       "      <td>18-24</td>\n",
       "      <td>twice a month</td>\n",
       "      <td>Online</td>\n",
       "      <td>Orange</td>\n",
       "      <td>Carrots</td>\n",
       "      <td>1000</td>\n",
       "      <td>Yes</td>\n",
       "      <td>Weight loss</td>\n",
       "      <td>Yes</td>\n",
       "      <td>Mobile Wallet</td>\n",
       "      <td>NaN</td>\n",
       "    </tr>\n",
       "    <tr>\n",
       "      <th>3</th>\n",
       "      <td>18-24</td>\n",
       "      <td>twice a month</td>\n",
       "      <td>Online</td>\n",
       "      <td>Apple</td>\n",
       "      <td>Carrots</td>\n",
       "      <td>1000</td>\n",
       "      <td>Yes</td>\n",
       "      <td>Weight loss</td>\n",
       "      <td>Yes</td>\n",
       "      <td>Cash</td>\n",
       "      <td>NaN</td>\n",
       "    </tr>\n",
       "    <tr>\n",
       "      <th>4</th>\n",
       "      <td>18-24</td>\n",
       "      <td>Once a week</td>\n",
       "      <td>in-store</td>\n",
       "      <td>Mango</td>\n",
       "      <td>Green vegetable</td>\n",
       "      <td>50</td>\n",
       "      <td>Yes</td>\n",
       "      <td>Maintain current health</td>\n",
       "      <td>Sometimes</td>\n",
       "      <td>Mobile Wallet</td>\n",
       "      <td>NaN</td>\n",
       "    </tr>\n",
       "  </tbody>\n",
       "</table>\n",
       "</div>"
      ],
      "text/plain": [
       "     Age How often do you typically go grocery shopping?  \\\n",
       "0  18-24                                     Once a week   \n",
       "1  18-24                                     Once a week   \n",
       "2  18-24                                   twice a month   \n",
       "3  18-24                                   twice a month   \n",
       "4  18-24                                     Once a week   \n",
       "\n",
       "  Do you prefer shopping online or in-store?  \\\n",
       "0                                     Online   \n",
       "1                                   in-store   \n",
       "2                                     Online   \n",
       "3                                     Online   \n",
       "4                                   in-store   \n",
       "\n",
       "  What types of fruits do you enjoy? What types of vegetables do you enjoy?  \\\n",
       "0                              Apple                                Carrots   \n",
       "1                             Banana                               Broccoli   \n",
       "2                             Orange                                Carrots   \n",
       "3                              Apple                                Carrots   \n",
       "4                              Mango                       Green vegetable    \n",
       "\n",
       "  What is your average budget for a grocery shopping trip?  \\\n",
       "0                                                200         \n",
       "1                                                100         \n",
       "2                                               1000         \n",
       "3                                               1000         \n",
       "4                                                 50         \n",
       "\n",
       "  Are you interested in healthier food options?   \\\n",
       "0                                            Yes   \n",
       "1                                            Yes   \n",
       "2                                            Yes   \n",
       "3                                            Yes   \n",
       "4                                            Yes   \n",
       "\n",
       "  Any specific health goals or preferences?  \\\n",
       "0                               muscle gain   \n",
       "1                               muscle gain   \n",
       "2                               Weight loss   \n",
       "3                               Weight loss   \n",
       "4                   Maintain current health   \n",
       "\n",
       "  Do you have preferred brands for certain products?   \\\n",
       "0                                                Yes    \n",
       "1                                                 No    \n",
       "2                                                Yes    \n",
       "3                                                Yes    \n",
       "4                                         Sometimes     \n",
       "\n",
       "  What is your preferred payment method for grocery shopping?  \\\n",
       "0                                        Credit Card            \n",
       "1                                      Mobile Wallet            \n",
       "2                                      Mobile Wallet            \n",
       "3                                               Cash            \n",
       "4                                      Mobile Wallet            \n",
       "\n",
       "  Do you have any specific allergy w.r.to fruits or vegetables (If not write NA)  \n",
       "0                                                NaN                              \n",
       "1                                                NaN                              \n",
       "2                                                NaN                              \n",
       "3                                                NaN                              \n",
       "4                                                NaN                              "
      ]
     },
     "execution_count": 6,
     "metadata": {},
     "output_type": "execute_result"
    }
   ],
   "source": [
    "df.head()"
   ]
  },
  {
   "cell_type": "code",
   "execution_count": 7,
   "id": "916ffea8",
   "metadata": {},
   "outputs": [],
   "source": [
    "df.rename(columns={'How often do you typically go grocery shopping?':'Shopping Frequency','Do you prefer shopping online or in-store?':'Shopping Mode',\n",
    "          'What types of fruits do you enjoy?':'Preferred fruits','What types of vegetables do you enjoy?':'Preferred Vegetables',\n",
    "          'What is your average budget for a grocery shopping trip?':'Budget','Are you interested in healthier food options?':'Healthier Food Options',\n",
    "           'Any specific health goals or preferences?':'Health Goals',\n",
    "          'Do you have preferred brands for certain products?':'Prefered Brand','What is your preferred payment method for grocery shopping?':'Payment Mode',\n",
    "          'Do you have any specific allergy w.r.to fruits or vegetables (If not write NA)':'Allergy'},inplace=True)"
   ]
  },
  {
   "cell_type": "code",
   "execution_count": 8,
   "id": "e448a8b6",
   "metadata": {},
   "outputs": [
    {
     "data": {
      "text/html": [
       "<div>\n",
       "<style scoped>\n",
       "    .dataframe tbody tr th:only-of-type {\n",
       "        vertical-align: middle;\n",
       "    }\n",
       "\n",
       "    .dataframe tbody tr th {\n",
       "        vertical-align: top;\n",
       "    }\n",
       "\n",
       "    .dataframe thead th {\n",
       "        text-align: right;\n",
       "    }\n",
       "</style>\n",
       "<table border=\"1\" class=\"dataframe\">\n",
       "  <thead>\n",
       "    <tr style=\"text-align: right;\">\n",
       "      <th></th>\n",
       "      <th>Age</th>\n",
       "      <th>Shopping Frequency</th>\n",
       "      <th>Shopping Mode</th>\n",
       "      <th>Preferred fruits</th>\n",
       "      <th>Preferred Vegetables</th>\n",
       "      <th>Budget</th>\n",
       "      <th>Are you interested in healthier food options?</th>\n",
       "      <th>Health Goals</th>\n",
       "      <th>Do you have preferred brands for certain products?</th>\n",
       "      <th>Payment Mode</th>\n",
       "      <th>Allergy</th>\n",
       "    </tr>\n",
       "  </thead>\n",
       "  <tbody>\n",
       "    <tr>\n",
       "      <th>0</th>\n",
       "      <td>18-24</td>\n",
       "      <td>Once a week</td>\n",
       "      <td>Online</td>\n",
       "      <td>Apple</td>\n",
       "      <td>Carrots</td>\n",
       "      <td>200</td>\n",
       "      <td>Yes</td>\n",
       "      <td>muscle gain</td>\n",
       "      <td>Yes</td>\n",
       "      <td>Credit Card</td>\n",
       "      <td>NaN</td>\n",
       "    </tr>\n",
       "    <tr>\n",
       "      <th>1</th>\n",
       "      <td>18-24</td>\n",
       "      <td>Once a week</td>\n",
       "      <td>in-store</td>\n",
       "      <td>Banana</td>\n",
       "      <td>Broccoli</td>\n",
       "      <td>100</td>\n",
       "      <td>Yes</td>\n",
       "      <td>muscle gain</td>\n",
       "      <td>No</td>\n",
       "      <td>Mobile Wallet</td>\n",
       "      <td>NaN</td>\n",
       "    </tr>\n",
       "    <tr>\n",
       "      <th>2</th>\n",
       "      <td>18-24</td>\n",
       "      <td>twice a month</td>\n",
       "      <td>Online</td>\n",
       "      <td>Orange</td>\n",
       "      <td>Carrots</td>\n",
       "      <td>1000</td>\n",
       "      <td>Yes</td>\n",
       "      <td>Weight loss</td>\n",
       "      <td>Yes</td>\n",
       "      <td>Mobile Wallet</td>\n",
       "      <td>NaN</td>\n",
       "    </tr>\n",
       "    <tr>\n",
       "      <th>3</th>\n",
       "      <td>18-24</td>\n",
       "      <td>twice a month</td>\n",
       "      <td>Online</td>\n",
       "      <td>Apple</td>\n",
       "      <td>Carrots</td>\n",
       "      <td>1000</td>\n",
       "      <td>Yes</td>\n",
       "      <td>Weight loss</td>\n",
       "      <td>Yes</td>\n",
       "      <td>Cash</td>\n",
       "      <td>NaN</td>\n",
       "    </tr>\n",
       "    <tr>\n",
       "      <th>4</th>\n",
       "      <td>18-24</td>\n",
       "      <td>Once a week</td>\n",
       "      <td>in-store</td>\n",
       "      <td>Mango</td>\n",
       "      <td>Green vegetable</td>\n",
       "      <td>50</td>\n",
       "      <td>Yes</td>\n",
       "      <td>Maintain current health</td>\n",
       "      <td>Sometimes</td>\n",
       "      <td>Mobile Wallet</td>\n",
       "      <td>NaN</td>\n",
       "    </tr>\n",
       "  </tbody>\n",
       "</table>\n",
       "</div>"
      ],
      "text/plain": [
       "     Age Shopping Frequency Shopping Mode Preferred fruits  \\\n",
       "0  18-24        Once a week        Online            Apple   \n",
       "1  18-24        Once a week      in-store           Banana   \n",
       "2  18-24      twice a month        Online           Orange   \n",
       "3  18-24      twice a month        Online            Apple   \n",
       "4  18-24        Once a week      in-store            Mango   \n",
       "\n",
       "  Preferred Vegetables Budget Are you interested in healthier food options?   \\\n",
       "0              Carrots    200                                            Yes   \n",
       "1             Broccoli    100                                            Yes   \n",
       "2              Carrots   1000                                            Yes   \n",
       "3              Carrots   1000                                            Yes   \n",
       "4     Green vegetable      50                                            Yes   \n",
       "\n",
       "              Health Goals  \\\n",
       "0              muscle gain   \n",
       "1              muscle gain   \n",
       "2              Weight loss   \n",
       "3              Weight loss   \n",
       "4  Maintain current health   \n",
       "\n",
       "  Do you have preferred brands for certain products?    Payment Mode Allergy  \n",
       "0                                                Yes     Credit Card     NaN  \n",
       "1                                                 No   Mobile Wallet     NaN  \n",
       "2                                                Yes   Mobile Wallet     NaN  \n",
       "3                                                Yes            Cash     NaN  \n",
       "4                                         Sometimes    Mobile Wallet     NaN  "
      ]
     },
     "execution_count": 8,
     "metadata": {},
     "output_type": "execute_result"
    }
   ],
   "source": [
    "# df.rename(columns={'Do you have preferred brands for certain products?':'Preferred Brands'})\n",
    "df.head()"
   ]
  },
  {
   "cell_type": "code",
   "execution_count": 9,
   "id": "bb24613c",
   "metadata": {},
   "outputs": [
    {
     "data": {
      "text/plain": [
       "array(['18-24', '25-34', '35-44', '55+', '23', '22', '21', '20', '24',\n",
       "       '55', '40', '44', '33', '43', '36', '37', '27', '34', '25', '45',\n",
       "       '56', '19', '67', '41'], dtype=object)"
      ]
     },
     "execution_count": 9,
     "metadata": {},
     "output_type": "execute_result"
    }
   ],
   "source": [
    "df['Age'].unique()"
   ]
  },
  {
   "cell_type": "code",
   "execution_count": 10,
   "id": "b416b108",
   "metadata": {},
   "outputs": [],
   "source": [
    "df['Age']=df['Age'].replace('18-24','18')\n",
    "df['Age']=df['Age'].replace('25-34','25')\n",
    "df['Age']=df['Age'].replace('35-44','35')\n",
    "df['Age']=df['Age'].replace('55+','55')"
   ]
  },
  {
   "cell_type": "code",
   "execution_count": 11,
   "id": "9d1cfded",
   "metadata": {},
   "outputs": [
    {
     "data": {
      "text/plain": [
       "array(['18', '25', '35', '55', '23', '22', '21', '20', '24', '40', '44',\n",
       "       '33', '43', '36', '37', '27', '34', '45', '56', '19', '67', '41'],\n",
       "      dtype=object)"
      ]
     },
     "execution_count": 11,
     "metadata": {},
     "output_type": "execute_result"
    }
   ],
   "source": [
    "df['Age'].unique()"
   ]
  },
  {
   "cell_type": "code",
   "execution_count": 12,
   "id": "5d817bfc",
   "metadata": {},
   "outputs": [],
   "source": [
    "df['Age']=df['Age'].astype('int')"
   ]
  },
  {
   "cell_type": "code",
   "execution_count": 13,
   "id": "965819e3",
   "metadata": {},
   "outputs": [
    {
     "name": "stdout",
     "output_type": "stream",
     "text": [
      "<class 'pandas.core.frame.DataFrame'>\n",
      "RangeIndex: 52 entries, 0 to 51\n",
      "Data columns (total 11 columns):\n",
      " #   Column                                               Non-Null Count  Dtype \n",
      "---  ------                                               --------------  ----- \n",
      " 0   Age                                                  52 non-null     int32 \n",
      " 1   Shopping Frequency                                   52 non-null     object\n",
      " 2   Shopping Mode                                        52 non-null     object\n",
      " 3   Preferred fruits                                     52 non-null     object\n",
      " 4   Preferred Vegetables                                 52 non-null     object\n",
      " 5   Budget                                               52 non-null     object\n",
      " 6   Are you interested in healthier food options?        52 non-null     object\n",
      " 7   Health Goals                                         51 non-null     object\n",
      " 8   Do you have preferred brands for certain products?   14 non-null     object\n",
      " 9   Payment Mode                                         52 non-null     object\n",
      " 10  Allergy                                              3 non-null      object\n",
      "dtypes: int32(1), object(10)\n",
      "memory usage: 4.4+ KB\n"
     ]
    }
   ],
   "source": [
    "df.info()"
   ]
  },
  {
   "cell_type": "code",
   "execution_count": 14,
   "id": "f8b30764",
   "metadata": {},
   "outputs": [
    {
     "data": {
      "text/plain": [
       "array(['Once a week', 'twice a month', 'Not regularly. ',\n",
       "       'Once in 2-3 months ', 'Monthly '], dtype=object)"
      ]
     },
     "execution_count": 14,
     "metadata": {},
     "output_type": "execute_result"
    }
   ],
   "source": [
    "df['Shopping Frequency'].unique()"
   ]
  },
  {
   "cell_type": "code",
   "execution_count": 15,
   "id": "0e79ee35",
   "metadata": {},
   "outputs": [
    {
     "data": {
      "text/plain": [
       "array(['Online', 'in-store'], dtype=object)"
      ]
     },
     "execution_count": 15,
     "metadata": {},
     "output_type": "execute_result"
    }
   ],
   "source": [
    "df['Shopping Mode'].unique()"
   ]
  },
  {
   "cell_type": "code",
   "execution_count": 61,
   "id": "529258fb",
   "metadata": {},
   "outputs": [
    {
     "data": {
      "text/plain": [
       "array(['Apple', 'Banana', 'Orange', 'Mango', 'All seasonal fruits .',\n",
       "       'Pineapple', 'Grape', 'Cheeries',\n",
       "       'Apple, Banana, Lemon, Pomegranate',\n",
       "       'Apple, Banana, Orange, Lemon, Pomegranate, Guava(पेरु), Custard apple(सीताफल), ',\n",
       "       'Apple, Banana, Orange, Pomegranate, Guava(पेरु), Custard apple(सीताफल), Sapodilla,',\n",
       "       'Apple, Banana, Orange, Lemon, Pomegranate, Guava(पेरु)',\n",
       "       'Apple, Banana, Lemon, Guava(पेरु)',\n",
       "       'Apple, Banana, Orange, Lemon, Pomegranate, Guava(पेरु), Custard apple(सीताफल)',\n",
       "       'Banana, Lemon',\n",
       "       'Apple, Banana, Lemon, Guava(पेरु), Kiwi, strawberry ',\n",
       "       'Apple, Banana, Orange, Pomegranate',\n",
       "       'Apple, Banana, Orange, Lemon, Pomegranate, Custard apple(सीताफल)',\n",
       "       'Orange, Pomegranate, Custard apple(सीताफल)',\n",
       "       'Lemon, Pomegranate, Guava(पेरु), Custard apple(सीताफल)',\n",
       "       'Apple, Banana, Orange, Lemon, Pomegranate',\n",
       "       'Orange, Lemon, Pomegranate', 'Apple, Banana, Orange, Lemon',\n",
       "       'Orange, Pomegranate, Guava(पेरु)',\n",
       "       'Banana, Pomegranate, Custard apple(सीताफल)',\n",
       "       'Orange, Lemon, Guava(पेरु)',\n",
       "       'Apple, Banana, Orange, Guava(पेरु), Custard apple(सीताफल)',\n",
       "       'Banana, Orange, Lemon',\n",
       "       'Orange, Lemon, Pomegranate, Guava(पेरु), Custard apple(सीताफल)',\n",
       "       'Pomegranate', 'Apple, Banana, Orange',\n",
       "       'Banana, Orange, Lemon, Pomegranate',\n",
       "       'Apple, Orange, Pomegranate, Custard apple(सीताफल)',\n",
       "       'Lemon, Pomegranate, Custard apple(सीताफल)', 'Banana, Orange',\n",
       "       'Orange, Lemon, Pomegranate, Strawbeery'], dtype=object)"
      ]
     },
     "execution_count": 61,
     "metadata": {},
     "output_type": "execute_result"
    }
   ],
   "source": [
    "df['Preferred fruits'].unique()"
   ]
  },
  {
   "cell_type": "code",
   "execution_count": 56,
   "id": "56d6d2da",
   "metadata": {},
   "outputs": [],
   "source": [
    "a=[df['Preferred fruits'].str.split()]"
   ]
  },
  {
   "cell_type": "code",
   "execution_count": 60,
   "id": "6eeb1ffa",
   "metadata": {},
   "outputs": [],
   "source": [
    "import re\n",
    "df['Preferred fruits'] = df['Preferred fruits'].str.replace(r'Pomegranate\\(डाळिंब/अनार\\)', 'Pomegranate', regex=True)"
   ]
  },
  {
   "cell_type": "code",
   "execution_count": 63,
   "id": "d3699f46",
   "metadata": {},
   "outputs": [],
   "source": [
    "df['Preferred fruits'] = df['Preferred fruits'].str.replace(r'Custard apple\\(सीताफल\\)', 'Custard apple', regex=True)\n",
    "df['Preferred fruits'] = df['Preferred fruits'].str.replace(r'Guava\\(पेरु\\)', 'Guava', regex=True)"
   ]
  },
  {
   "cell_type": "code",
   "execution_count": 64,
   "id": "7e262e80",
   "metadata": {},
   "outputs": [
    {
     "data": {
      "text/plain": [
       "array(['Apple', 'Banana', 'Orange', 'Mango', 'All seasonal fruits .',\n",
       "       'Pineapple', 'Grape', 'Cheeries',\n",
       "       'Apple, Banana, Lemon, Pomegranate',\n",
       "       'Apple, Banana, Orange, Lemon, Pomegranate, Guava, Custard apple, ',\n",
       "       'Apple, Banana, Orange, Pomegranate, Guava, Custard apple, Sapodilla,',\n",
       "       'Apple, Banana, Orange, Lemon, Pomegranate, Guava',\n",
       "       'Apple, Banana, Lemon, Guava',\n",
       "       'Apple, Banana, Orange, Lemon, Pomegranate, Guava, Custard apple',\n",
       "       'Banana, Lemon', 'Apple, Banana, Lemon, Guava, Kiwi, strawberry ',\n",
       "       'Apple, Banana, Orange, Pomegranate',\n",
       "       'Apple, Banana, Orange, Lemon, Pomegranate, Custard apple',\n",
       "       'Orange, Pomegranate, Custard apple',\n",
       "       'Lemon, Pomegranate, Guava, Custard apple',\n",
       "       'Apple, Banana, Orange, Lemon, Pomegranate',\n",
       "       'Orange, Lemon, Pomegranate', 'Apple, Banana, Orange, Lemon',\n",
       "       'Orange, Pomegranate, Guava', 'Banana, Pomegranate, Custard apple',\n",
       "       'Orange, Lemon, Guava',\n",
       "       'Apple, Banana, Orange, Guava, Custard apple',\n",
       "       'Banana, Orange, Lemon',\n",
       "       'Orange, Lemon, Pomegranate, Guava, Custard apple', 'Pomegranate',\n",
       "       'Apple, Banana, Orange', 'Banana, Orange, Lemon, Pomegranate',\n",
       "       'Apple, Orange, Pomegranate, Custard apple',\n",
       "       'Lemon, Pomegranate, Custard apple', 'Banana, Orange',\n",
       "       'Orange, Lemon, Pomegranate, Strawbeery'], dtype=object)"
      ]
     },
     "execution_count": 64,
     "metadata": {},
     "output_type": "execute_result"
    }
   ],
   "source": [
    "df['Preferred fruits'].unique()"
   ]
  },
  {
   "cell_type": "code",
   "execution_count": 65,
   "id": "b18c6545",
   "metadata": {},
   "outputs": [
    {
     "data": {
      "text/html": [
       "<div>\n",
       "<style scoped>\n",
       "    .dataframe tbody tr th:only-of-type {\n",
       "        vertical-align: middle;\n",
       "    }\n",
       "\n",
       "    .dataframe tbody tr th {\n",
       "        vertical-align: top;\n",
       "    }\n",
       "\n",
       "    .dataframe thead th {\n",
       "        text-align: right;\n",
       "    }\n",
       "</style>\n",
       "<table border=\"1\" class=\"dataframe\">\n",
       "  <thead>\n",
       "    <tr style=\"text-align: right;\">\n",
       "      <th></th>\n",
       "      <th>Age</th>\n",
       "      <th>Shopping Frequency</th>\n",
       "      <th>Shopping Mode</th>\n",
       "      <th>Preferred fruits</th>\n",
       "      <th>Preferred Vegetables</th>\n",
       "      <th>Budget</th>\n",
       "      <th>Are you interested in healthier food options?</th>\n",
       "      <th>Health Goals</th>\n",
       "      <th>Do you have preferred brands for certain products?</th>\n",
       "      <th>Payment Mode</th>\n",
       "      <th>Allergy</th>\n",
       "    </tr>\n",
       "  </thead>\n",
       "  <tbody>\n",
       "    <tr>\n",
       "      <th>0</th>\n",
       "      <td>18</td>\n",
       "      <td>Once a week</td>\n",
       "      <td>Online</td>\n",
       "      <td>Apple</td>\n",
       "      <td>Carrots</td>\n",
       "      <td>200</td>\n",
       "      <td>Yes</td>\n",
       "      <td>muscle gain</td>\n",
       "      <td>Yes</td>\n",
       "      <td>Credit Card</td>\n",
       "      <td>NaN</td>\n",
       "    </tr>\n",
       "    <tr>\n",
       "      <th>1</th>\n",
       "      <td>18</td>\n",
       "      <td>Once a week</td>\n",
       "      <td>in-store</td>\n",
       "      <td>Banana</td>\n",
       "      <td>Broccoli</td>\n",
       "      <td>100</td>\n",
       "      <td>Yes</td>\n",
       "      <td>muscle gain</td>\n",
       "      <td>No</td>\n",
       "      <td>Mobile Wallet</td>\n",
       "      <td>NaN</td>\n",
       "    </tr>\n",
       "    <tr>\n",
       "      <th>2</th>\n",
       "      <td>18</td>\n",
       "      <td>twice a month</td>\n",
       "      <td>Online</td>\n",
       "      <td>Orange</td>\n",
       "      <td>Carrots</td>\n",
       "      <td>1000</td>\n",
       "      <td>Yes</td>\n",
       "      <td>Weight loss</td>\n",
       "      <td>Yes</td>\n",
       "      <td>Mobile Wallet</td>\n",
       "      <td>NaN</td>\n",
       "    </tr>\n",
       "    <tr>\n",
       "      <th>3</th>\n",
       "      <td>18</td>\n",
       "      <td>twice a month</td>\n",
       "      <td>Online</td>\n",
       "      <td>Apple</td>\n",
       "      <td>Carrots</td>\n",
       "      <td>1000</td>\n",
       "      <td>Yes</td>\n",
       "      <td>Weight loss</td>\n",
       "      <td>Yes</td>\n",
       "      <td>Cash</td>\n",
       "      <td>NaN</td>\n",
       "    </tr>\n",
       "    <tr>\n",
       "      <th>4</th>\n",
       "      <td>18</td>\n",
       "      <td>Once a week</td>\n",
       "      <td>in-store</td>\n",
       "      <td>Mango</td>\n",
       "      <td>Green vegetable</td>\n",
       "      <td>50</td>\n",
       "      <td>Yes</td>\n",
       "      <td>Maintain current health</td>\n",
       "      <td>Sometimes</td>\n",
       "      <td>Mobile Wallet</td>\n",
       "      <td>NaN</td>\n",
       "    </tr>\n",
       "  </tbody>\n",
       "</table>\n",
       "</div>"
      ],
      "text/plain": [
       "   Age Shopping Frequency Shopping Mode Preferred fruits Preferred Vegetables  \\\n",
       "0   18        Once a week        Online            Apple              Carrots   \n",
       "1   18        Once a week      in-store           Banana             Broccoli   \n",
       "2   18      twice a month        Online           Orange              Carrots   \n",
       "3   18      twice a month        Online            Apple              Carrots   \n",
       "4   18        Once a week      in-store            Mango     Green vegetable    \n",
       "\n",
       "  Budget Are you interested in healthier food options?   \\\n",
       "0    200                                            Yes   \n",
       "1    100                                            Yes   \n",
       "2   1000                                            Yes   \n",
       "3   1000                                            Yes   \n",
       "4     50                                            Yes   \n",
       "\n",
       "              Health Goals  \\\n",
       "0              muscle gain   \n",
       "1              muscle gain   \n",
       "2              Weight loss   \n",
       "3              Weight loss   \n",
       "4  Maintain current health   \n",
       "\n",
       "  Do you have preferred brands for certain products?    Payment Mode Allergy  \n",
       "0                                                Yes     Credit Card     NaN  \n",
       "1                                                 No   Mobile Wallet     NaN  \n",
       "2                                                Yes   Mobile Wallet     NaN  \n",
       "3                                                Yes            Cash     NaN  \n",
       "4                                         Sometimes    Mobile Wallet     NaN  "
      ]
     },
     "execution_count": 65,
     "metadata": {},
     "output_type": "execute_result"
    }
   ],
   "source": [
    "df.head()"
   ]
  },
  {
   "cell_type": "code",
   "execution_count": 66,
   "id": "3a2c4ee0",
   "metadata": {},
   "outputs": [],
   "source": [
    "df.drop(['Allergy'],axis=1,inplace=True)"
   ]
  },
  {
   "cell_type": "code",
   "execution_count": 78,
   "id": "5e14c334",
   "metadata": {},
   "outputs": [],
   "source": [
    "df['Preferred Foods']=df['Preferred fruits']+' '+df['Preferred Vegetables']"
   ]
  },
  {
   "cell_type": "code",
   "execution_count": 79,
   "id": "fa508aad",
   "metadata": {},
   "outputs": [
    {
     "data": {
      "text/html": [
       "<div>\n",
       "<style scoped>\n",
       "    .dataframe tbody tr th:only-of-type {\n",
       "        vertical-align: middle;\n",
       "    }\n",
       "\n",
       "    .dataframe tbody tr th {\n",
       "        vertical-align: top;\n",
       "    }\n",
       "\n",
       "    .dataframe thead th {\n",
       "        text-align: right;\n",
       "    }\n",
       "</style>\n",
       "<table border=\"1\" class=\"dataframe\">\n",
       "  <thead>\n",
       "    <tr style=\"text-align: right;\">\n",
       "      <th></th>\n",
       "      <th>Age</th>\n",
       "      <th>Shopping Frequency</th>\n",
       "      <th>Shopping Mode</th>\n",
       "      <th>Preferred fruits</th>\n",
       "      <th>Preferred Vegetables</th>\n",
       "      <th>Budget</th>\n",
       "      <th>Are you interested in healthier food options?</th>\n",
       "      <th>Health Goals</th>\n",
       "      <th>Do you have preferred brands for certain products?</th>\n",
       "      <th>Payment Mode</th>\n",
       "      <th>Preferred Foods</th>\n",
       "    </tr>\n",
       "  </thead>\n",
       "  <tbody>\n",
       "    <tr>\n",
       "      <th>0</th>\n",
       "      <td>18</td>\n",
       "      <td>Once a week</td>\n",
       "      <td>Online</td>\n",
       "      <td>Apple</td>\n",
       "      <td>Carrots</td>\n",
       "      <td>200</td>\n",
       "      <td>Yes</td>\n",
       "      <td>muscle gain</td>\n",
       "      <td>Yes</td>\n",
       "      <td>Credit Card</td>\n",
       "      <td>Apple Carrots</td>\n",
       "    </tr>\n",
       "    <tr>\n",
       "      <th>1</th>\n",
       "      <td>18</td>\n",
       "      <td>Once a week</td>\n",
       "      <td>in-store</td>\n",
       "      <td>Banana</td>\n",
       "      <td>Broccoli</td>\n",
       "      <td>100</td>\n",
       "      <td>Yes</td>\n",
       "      <td>muscle gain</td>\n",
       "      <td>No</td>\n",
       "      <td>Mobile Wallet</td>\n",
       "      <td>Banana Broccoli</td>\n",
       "    </tr>\n",
       "    <tr>\n",
       "      <th>2</th>\n",
       "      <td>18</td>\n",
       "      <td>twice a month</td>\n",
       "      <td>Online</td>\n",
       "      <td>Orange</td>\n",
       "      <td>Carrots</td>\n",
       "      <td>1000</td>\n",
       "      <td>Yes</td>\n",
       "      <td>Weight loss</td>\n",
       "      <td>Yes</td>\n",
       "      <td>Mobile Wallet</td>\n",
       "      <td>Orange Carrots</td>\n",
       "    </tr>\n",
       "    <tr>\n",
       "      <th>3</th>\n",
       "      <td>18</td>\n",
       "      <td>twice a month</td>\n",
       "      <td>Online</td>\n",
       "      <td>Apple</td>\n",
       "      <td>Carrots</td>\n",
       "      <td>1000</td>\n",
       "      <td>Yes</td>\n",
       "      <td>Weight loss</td>\n",
       "      <td>Yes</td>\n",
       "      <td>Cash</td>\n",
       "      <td>Apple Carrots</td>\n",
       "    </tr>\n",
       "    <tr>\n",
       "      <th>4</th>\n",
       "      <td>18</td>\n",
       "      <td>Once a week</td>\n",
       "      <td>in-store</td>\n",
       "      <td>Mango</td>\n",
       "      <td>Green vegetable</td>\n",
       "      <td>50</td>\n",
       "      <td>Yes</td>\n",
       "      <td>Maintain current health</td>\n",
       "      <td>Sometimes</td>\n",
       "      <td>Mobile Wallet</td>\n",
       "      <td>Mango Green vegetable</td>\n",
       "    </tr>\n",
       "  </tbody>\n",
       "</table>\n",
       "</div>"
      ],
      "text/plain": [
       "   Age Shopping Frequency Shopping Mode Preferred fruits Preferred Vegetables  \\\n",
       "0   18        Once a week        Online            Apple              Carrots   \n",
       "1   18        Once a week      in-store           Banana             Broccoli   \n",
       "2   18      twice a month        Online           Orange              Carrots   \n",
       "3   18      twice a month        Online            Apple              Carrots   \n",
       "4   18        Once a week      in-store            Mango     Green vegetable    \n",
       "\n",
       "  Budget Are you interested in healthier food options?   \\\n",
       "0    200                                            Yes   \n",
       "1    100                                            Yes   \n",
       "2   1000                                            Yes   \n",
       "3   1000                                            Yes   \n",
       "4     50                                            Yes   \n",
       "\n",
       "              Health Goals  \\\n",
       "0              muscle gain   \n",
       "1              muscle gain   \n",
       "2              Weight loss   \n",
       "3              Weight loss   \n",
       "4  Maintain current health   \n",
       "\n",
       "  Do you have preferred brands for certain products?    Payment Mode  \\\n",
       "0                                                Yes     Credit Card   \n",
       "1                                                 No   Mobile Wallet   \n",
       "2                                                Yes   Mobile Wallet   \n",
       "3                                                Yes            Cash   \n",
       "4                                         Sometimes    Mobile Wallet   \n",
       "\n",
       "          Preferred Foods  \n",
       "0           Apple Carrots  \n",
       "1         Banana Broccoli  \n",
       "2          Orange Carrots  \n",
       "3           Apple Carrots  \n",
       "4  Mango Green vegetable   "
      ]
     },
     "execution_count": 79,
     "metadata": {},
     "output_type": "execute_result"
    }
   ],
   "source": [
    "df.head()"
   ]
  },
  {
   "cell_type": "code",
   "execution_count": 80,
   "id": "d3687245",
   "metadata": {},
   "outputs": [
    {
     "data": {
      "text/html": [
       "<div>\n",
       "<style scoped>\n",
       "    .dataframe tbody tr th:only-of-type {\n",
       "        vertical-align: middle;\n",
       "    }\n",
       "\n",
       "    .dataframe tbody tr th {\n",
       "        vertical-align: top;\n",
       "    }\n",
       "\n",
       "    .dataframe thead th {\n",
       "        text-align: right;\n",
       "    }\n",
       "</style>\n",
       "<table border=\"1\" class=\"dataframe\">\n",
       "  <thead>\n",
       "    <tr style=\"text-align: right;\">\n",
       "      <th></th>\n",
       "      <th>Health Goals</th>\n",
       "      <th>Preferred Foods</th>\n",
       "    </tr>\n",
       "  </thead>\n",
       "  <tbody>\n",
       "    <tr>\n",
       "      <th>0</th>\n",
       "      <td>muscle gain</td>\n",
       "      <td>Apple Carrots</td>\n",
       "    </tr>\n",
       "    <tr>\n",
       "      <th>1</th>\n",
       "      <td>muscle gain</td>\n",
       "      <td>Banana Broccoli</td>\n",
       "    </tr>\n",
       "  </tbody>\n",
       "</table>\n",
       "</div>"
      ],
      "text/plain": [
       "  Health Goals  Preferred Foods\n",
       "0  muscle gain    Apple Carrots\n",
       "1  muscle gain  Banana Broccoli"
      ]
     },
     "execution_count": 80,
     "metadata": {},
     "output_type": "execute_result"
    }
   ],
   "source": [
    "new_df=df[['Health Goals','Preferred Foods']]\n",
    "new_df.head(2)"
   ]
  },
  {
   "cell_type": "code",
   "execution_count": 99,
   "id": "09c60ce2",
   "metadata": {},
   "outputs": [
    {
     "data": {
      "text/plain": [
       "array(['apple carrots', 'banana broccoli', 'orange carrots',\n",
       "       'mango green vegetable ',\n",
       "       'all seasonal fruits . local vegetables. ', 'banana carrots',\n",
       "       'pineapple ladyfinger', 'mango bhendi', 'grape potato',\n",
       "       'cheeries sweet potato', 'orange spinach',\n",
       "       'apple, banana, lemon, pomegranate broccoli, spinach, carrots, cucumber',\n",
       "       'apple, banana, orange, lemon, pomegranate, guava, custard apple,  broccoli, spinach, carrots, potato, cucumber',\n",
       "       'apple, banana, orange, pomegranate, guava, custard apple, sapodilla, broccoli, spinach, carrots, potato, cucumber, capsicum, eggplant, cabbage and cauliflower, methi ',\n",
       "       'apple, banana, orange, lemon, pomegranate, guava broccoli, spinach, carrots, potato, cucumber',\n",
       "       'apple, banana, lemon, guava broccoli, spinach, carrots, potato, cucumber',\n",
       "       'apple, banana, orange, lemon, pomegranate, guava, custard apple spinach, carrots, potato, cucumber',\n",
       "       'banana, lemon carrots, potato',\n",
       "       'apple, banana, lemon, guava, kiwi, strawberry  spinach, carrots, potato, cucumber',\n",
       "       'apple, banana, orange, pomegranate spinach, carrots, potato, cucumber',\n",
       "       'apple, banana, orange, lemon, pomegranate, custard apple carrots, potato, cucumber',\n",
       "       'orange, pomegranate, custard apple broccoli, carrots, cucumber',\n",
       "       'lemon, pomegranate, guava, custard apple broccoli, spinach, carrots, cucumber',\n",
       "       'apple, banana, orange, lemon, pomegranate spinach, carrots, potato, cucumber',\n",
       "       'orange, lemon, pomegranate spinach, carrots, potato',\n",
       "       'apple, banana, orange, lemon, pomegranate, guava, custard apple broccoli, spinach, carrots, cucumber',\n",
       "       'apple, banana, orange, lemon, pomegranate broccoli, spinach, carrots, potato, cucumber',\n",
       "       'apple, banana, orange, lemon spinach, carrots, potato',\n",
       "       'orange, pomegranate, guava broccoli, carrots, cucumber',\n",
       "       'orange, pomegranate, guava spinach, carrots, potato',\n",
       "       'banana, pomegranate, custard apple broccoli, spinach, potato',\n",
       "       'apple, banana, orange, lemon broccoli, spinach, carrots, potato',\n",
       "       'orange, lemon, guava spinach, carrots, potato',\n",
       "       'apple, banana, orange, guava, custard apple broccoli, spinach, carrots',\n",
       "       'lemon, pomegranate, guava, custard apple broccoli, spinach, carrots',\n",
       "       'banana, orange, lemon spinach, carrots, potato',\n",
       "       'orange, lemon, pomegranate, guava, custard apple broccoli, spinach, carrots, potato, cucumber',\n",
       "       'pomegranate carrots',\n",
       "       'apple, banana, orange, lemon, pomegranate broccoli, spinach, carrots, potato',\n",
       "       'apple, banana, orange broccoli, spinach, carrots',\n",
       "       'apple, banana, orange, lemon, pomegranate, guava, custard apple spinach, carrots, cucumber',\n",
       "       'banana, orange, lemon, pomegranate spinach, carrots, potato',\n",
       "       'apple, orange, pomegranate, custard apple spinach, carrots, potato',\n",
       "       'lemon, pomegranate, custard apple carrots, cucumber',\n",
       "       'apple, banana, orange carrots, potato, cucumber',\n",
       "       'banana, orange broccoli, spinach, cucumber',\n",
       "       'orange, lemon, pomegranate, strawbeery broccoli, spinach, carrots, cucumber',\n",
       "       'apple, banana, orange, lemon, pomegranate, guava, custard apple carrots, potato',\n",
       "       'orange, lemon, pomegranate broccoli, carrots, potato'],\n",
       "      dtype=object)"
      ]
     },
     "execution_count": 99,
     "metadata": {},
     "output_type": "execute_result"
    }
   ],
   "source": [
    "new_df['Preferred_Foods'].unique()"
   ]
  },
  {
   "cell_type": "code",
   "execution_count": 77,
   "id": "11a223bc",
   "metadata": {},
   "outputs": [],
   "source": [
    "from nltk.stem import PorterStemmer\n",
    "ps=PorterStemmer()"
   ]
  },
  {
   "cell_type": "code",
   "execution_count": 81,
   "id": "969d2e61",
   "metadata": {},
   "outputs": [],
   "source": [
    "new_df['Preferred Foods']=new_df['Preferred Foods'].apply(lambda x : x.lower())"
   ]
  },
  {
   "cell_type": "code",
   "execution_count": 82,
   "id": "e6fddf84",
   "metadata": {},
   "outputs": [],
   "source": [
    "from sklearn.feature_extraction.text import CountVectorizer"
   ]
  },
  {
   "cell_type": "code",
   "execution_count": 83,
   "id": "4a176c8f",
   "metadata": {},
   "outputs": [],
   "source": [
    "cv=CountVectorizer(max_features=5000,stop_words='english')"
   ]
  },
  {
   "cell_type": "code",
   "execution_count": 85,
   "id": "c5905f99",
   "metadata": {},
   "outputs": [],
   "source": [
    "vectors=cv.fit_transform(new_df['Preferred Foods']).toarray()"
   ]
  },
  {
   "cell_type": "code",
   "execution_count": 86,
   "id": "741e456e",
   "metadata": {},
   "outputs": [
    {
     "data": {
      "text/plain": [
       "array([1, 0, 0, 0, 0, 0, 1, 0, 0, 0, 0, 0, 0, 0, 0, 0, 0, 0, 0, 0, 0, 0,\n",
       "       0, 0, 0, 0, 0, 0, 0, 0, 0, 0, 0, 0], dtype=int64)"
      ]
     },
     "execution_count": 86,
     "metadata": {},
     "output_type": "execute_result"
    }
   ],
   "source": [
    "vectors[0]"
   ]
  },
  {
   "cell_type": "code",
   "execution_count": 87,
   "id": "8f86bc29",
   "metadata": {},
   "outputs": [],
   "source": [
    "from sklearn.metrics.pairwise import cosine_similarity"
   ]
  },
  {
   "cell_type": "code",
   "execution_count": 88,
   "id": "fc37e7e2",
   "metadata": {},
   "outputs": [],
   "source": [
    "similarity=cosine_similarity(vectors)"
   ]
  },
  {
   "cell_type": "code",
   "execution_count": 89,
   "id": "b7dc9907",
   "metadata": {},
   "outputs": [
    {
     "data": {
      "text/plain": [
       "(52,)"
      ]
     },
     "execution_count": 89,
     "metadata": {},
     "output_type": "execute_result"
    }
   ],
   "source": [
    "similarity[0].shape"
   ]
  },
  {
   "cell_type": "code",
   "execution_count": 96,
   "id": "e166fb9b",
   "metadata": {},
   "outputs": [
    {
     "data": {
      "text/html": [
       "<div>\n",
       "<style scoped>\n",
       "    .dataframe tbody tr th:only-of-type {\n",
       "        vertical-align: middle;\n",
       "    }\n",
       "\n",
       "    .dataframe tbody tr th {\n",
       "        vertical-align: top;\n",
       "    }\n",
       "\n",
       "    .dataframe thead th {\n",
       "        text-align: right;\n",
       "    }\n",
       "</style>\n",
       "<table border=\"1\" class=\"dataframe\">\n",
       "  <thead>\n",
       "    <tr style=\"text-align: right;\">\n",
       "      <th></th>\n",
       "      <th>Health Goals</th>\n",
       "      <th>Preferred_Foods</th>\n",
       "    </tr>\n",
       "  </thead>\n",
       "  <tbody>\n",
       "    <tr>\n",
       "      <th>0</th>\n",
       "      <td>muscle gain</td>\n",
       "      <td>apple carrots</td>\n",
       "    </tr>\n",
       "    <tr>\n",
       "      <th>1</th>\n",
       "      <td>muscle gain</td>\n",
       "      <td>banana broccoli</td>\n",
       "    </tr>\n",
       "    <tr>\n",
       "      <th>2</th>\n",
       "      <td>Weight loss</td>\n",
       "      <td>orange carrots</td>\n",
       "    </tr>\n",
       "    <tr>\n",
       "      <th>3</th>\n",
       "      <td>Weight loss</td>\n",
       "      <td>apple carrots</td>\n",
       "    </tr>\n",
       "    <tr>\n",
       "      <th>4</th>\n",
       "      <td>Maintain current health</td>\n",
       "      <td>mango green vegetable</td>\n",
       "    </tr>\n",
       "  </tbody>\n",
       "</table>\n",
       "</div>"
      ],
      "text/plain": [
       "              Health Goals         Preferred_Foods\n",
       "0              muscle gain           apple carrots\n",
       "1              muscle gain         banana broccoli\n",
       "2              Weight loss          orange carrots\n",
       "3              Weight loss           apple carrots\n",
       "4  Maintain current health  mango green vegetable "
      ]
     },
     "execution_count": 96,
     "metadata": {},
     "output_type": "execute_result"
    }
   ],
   "source": [
    "new_df.rename({'Preferred Foods':'Preferred_Foods'},inplace=True,axis=1)\n",
    "new_df.head()"
   ]
  },
  {
   "cell_type": "code",
   "execution_count": 97,
   "id": "f1aa5a18",
   "metadata": {},
   "outputs": [],
   "source": [
    "def recommend(health_goals):\n",
    "    foods_index=new_df[new_df['Health Goals']==health_goals].index[0]\n",
    "    distances=similarity[foods_index]\n",
    "    foods_list=sorted(list(enumerate(distances)),reverse=True,key=lambda x:x[1])[1:6]\n",
    "    \n",
    "    for i in foods_list:\n",
    "        print(new_df.iloc[i[0]].Preferred_Foods)\n",
    "#     new_df.iloc[i[0]].title"
   ]
  },
  {
   "cell_type": "code",
   "execution_count": 98,
   "id": "4e2b36c7",
   "metadata": {},
   "outputs": [
    {
     "name": "stdout",
     "output_type": "stream",
     "text": [
      "apple carrots\n",
      "apple carrots\n",
      "apple, orange, pomegranate, custard apple spinach, carrots, potato\n",
      "apple, banana, orange, guava, custard apple broccoli, spinach, carrots\n",
      "apple, banana, orange, lemon, pomegranate, custard apple carrots, potato, cucumber\n"
     ]
    }
   ],
   "source": [
    "recommend('muscle gain')"
   ]
  },
  {
   "cell_type": "code",
   "execution_count": 105,
   "id": "d3fb9020",
   "metadata": {},
   "outputs": [
    {
     "data": {
      "text/html": [
       "<div>\n",
       "<style scoped>\n",
       "    .dataframe tbody tr th:only-of-type {\n",
       "        vertical-align: middle;\n",
       "    }\n",
       "\n",
       "    .dataframe tbody tr th {\n",
       "        vertical-align: top;\n",
       "    }\n",
       "\n",
       "    .dataframe thead th {\n",
       "        text-align: right;\n",
       "    }\n",
       "</style>\n",
       "<table border=\"1\" class=\"dataframe\">\n",
       "  <thead>\n",
       "    <tr style=\"text-align: right;\">\n",
       "      <th></th>\n",
       "      <th>Health Goals</th>\n",
       "      <th>Preferred_Foods</th>\n",
       "    </tr>\n",
       "  </thead>\n",
       "  <tbody>\n",
       "    <tr>\n",
       "      <th>0</th>\n",
       "      <td>muscle gain</td>\n",
       "      <td>apple carrots</td>\n",
       "    </tr>\n",
       "    <tr>\n",
       "      <th>1</th>\n",
       "      <td>muscle gain</td>\n",
       "      <td>banana broccoli</td>\n",
       "    </tr>\n",
       "    <tr>\n",
       "      <th>2</th>\n",
       "      <td>Weight loss</td>\n",
       "      <td>orange carrots</td>\n",
       "    </tr>\n",
       "    <tr>\n",
       "      <th>3</th>\n",
       "      <td>Weight loss</td>\n",
       "      <td>apple carrots</td>\n",
       "    </tr>\n",
       "    <tr>\n",
       "      <th>4</th>\n",
       "      <td>Maintain current health</td>\n",
       "      <td>mango green vegetable</td>\n",
       "    </tr>\n",
       "  </tbody>\n",
       "</table>\n",
       "</div>"
      ],
      "text/plain": [
       "              Health Goals         Preferred_Foods\n",
       "0              muscle gain           apple carrots\n",
       "1              muscle gain         banana broccoli\n",
       "2              Weight loss          orange carrots\n",
       "3              Weight loss           apple carrots\n",
       "4  Maintain current health  mango green vegetable "
      ]
     },
     "execution_count": 105,
     "metadata": {},
     "output_type": "execute_result"
    }
   ],
   "source": [
    "new_df.head()"
   ]
  },
  {
   "cell_type": "code",
   "execution_count": 110,
   "id": "06f5ace6",
   "metadata": {},
   "outputs": [],
   "source": [
    "from collections import Counter\n",
    "\n",
    "def recommend(health_goals):\n",
    "    food_index = new_df[new_df['Health Goals'] == health_goals].index[0]\n",
    "    distances = similarity[food_index]\n",
    "    food_list = sorted(list(enumerate(distances)), reverse=True, key=lambda x: x[1])[1:6]\n",
    "\n",
    "    preferred_foods = []\n",
    "\n",
    "    for i in food_list:\n",
    "        preferred_foods.extend(new_df.iloc[i[0]].Preferred_Foods.split(', '))\n",
    "\n",
    "    # Count the occurrences of each food\n",
    "    food_counts = Counter(preferred_foods)\n",
    "\n",
    "    # Print the top 3 most occurring foods\n",
    "    top_3_foods = food_counts.most_common(3)\n",
    "\n",
    "    for food, count in top_3_foods:\n",
    "        print(food)"
   ]
  },
  {
   "cell_type": "code",
   "execution_count": 111,
   "id": "c5af9f71",
   "metadata": {},
   "outputs": [
    {
     "name": "stdout",
     "output_type": "stream",
     "text": [
      "apple\n",
      "orange\n",
      "apple carrots\n"
     ]
    }
   ],
   "source": [
    "recommend('muscle gain')"
   ]
  },
  {
   "cell_type": "code",
   "execution_count": 112,
   "id": "f5941186",
   "metadata": {},
   "outputs": [],
   "source": [
    "import pickle\n",
    "pickle.dump(new_df.to_dict(),open('food_dict.pkl','wb'))"
   ]
  },
  {
   "cell_type": "code",
   "execution_count": 113,
   "id": "7484d26e",
   "metadata": {},
   "outputs": [],
   "source": [
    "pickle.dump(similarity,open('similarity.pkl','wb'))"
   ]
  },
  {
   "cell_type": "code",
   "execution_count": 119,
   "id": "1ca91446",
   "metadata": {},
   "outputs": [
    {
     "data": {
      "text/plain": [
       "array(['muscle gain', 'Weight loss', 'Maintain current health',\n",
       "       'Overall Health consciousness! ', 'Achieve good Appetite', nan,\n",
       "       'Manage stress effectively', 'Weight gain', 'Stay maintain'],\n",
       "      dtype=object)"
      ]
     },
     "execution_count": 119,
     "metadata": {},
     "output_type": "execute_result"
    }
   ],
   "source": [
    "new_df['Health Goals'].unique()"
   ]
  },
  {
   "cell_type": "code",
   "execution_count": 118,
   "id": "00e3d77e",
   "metadata": {},
   "outputs": [],
   "source": [
    "new_df=new_df[new_df['Health Goals']!='nan']"
   ]
  },
  {
   "cell_type": "code",
   "execution_count": null,
   "id": "8e45a162",
   "metadata": {},
   "outputs": [],
   "source": []
  }
 ],
 "metadata": {
  "kernelspec": {
   "display_name": "Python 3 (ipykernel)",
   "language": "python",
   "name": "python3"
  },
  "language_info": {
   "codemirror_mode": {
    "name": "ipython",
    "version": 3
   },
   "file_extension": ".py",
   "mimetype": "text/x-python",
   "name": "python",
   "nbconvert_exporter": "python",
   "pygments_lexer": "ipython3",
   "version": "3.10.9"
  }
 },
 "nbformat": 4,
 "nbformat_minor": 5
}
